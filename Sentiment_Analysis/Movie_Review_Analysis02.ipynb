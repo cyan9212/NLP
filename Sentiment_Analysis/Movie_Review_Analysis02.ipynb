{
  "nbformat": 4,
  "nbformat_minor": 0,
  "metadata": {
    "kernelspec": {
      "language": "python",
      "display_name": "Python 3",
      "name": "python3"
    },
    "language_info": {
      "pygments_lexer": "ipython3",
      "nbconvert_exporter": "python",
      "version": "3.6.4",
      "file_extension": ".py",
      "codemirror_mode": {
        "name": "ipython",
        "version": 3
      },
      "name": "python",
      "mimetype": "text/x-python"
    },
    "colab": {
      "name": "[NLP]_Review_Classification.ipynb",
      "provenance": []
    }
  },
  "cells": [
    {
      "cell_type": "markdown",
      "metadata": {
        "id": "f9VJx4xaEyjR"
      },
      "source": [
        "# 사용자 리뷰 데이터 분석\n",
        "**Data Field**\n",
        "\n",
        "id - Unique ID of each review\n",
        "\n",
        "sentiment - Sentiment of the review; 1 for positive reviews and 0 for negative reviews\n",
        "\n",
        "review - Text of the review"
      ]
    },
    {
      "cell_type": "code",
      "metadata": {
        "_uuid": "8f2839f25d086af736a60e9eeb907d3b93b6e0e5",
        "_cell_guid": "b1076dfc-b9ad-4769-8c92-a6c4dae69d19",
        "execution": {
          "iopub.status.busy": "2021-10-08T16:46:31.264224Z",
          "iopub.execute_input": "2021-10-08T16:46:31.264513Z",
          "iopub.status.idle": "2021-10-08T16:46:33.712196Z",
          "shell.execute_reply.started": "2021-10-08T16:46:31.264486Z",
          "shell.execute_reply": "2021-10-08T16:46:33.711474Z"
        },
        "trusted": true,
        "colab": {
          "resources": {
            "http://localhost:8080/nbextensions/google.colab/files.js": {
              "data": "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",
              "ok": true,
              "headers": [
                [
                  "content-type",
                  "application/javascript"
                ]
              ],
              "status": 200,
              "status_text": ""
            }
          },
          "base_uri": "https://localhost:8080/",
          "height": 369
        },
        "id": "YNsijIswYqwh",
        "outputId": "bbf182d4-11a1-4a5d-9ac5-1b482020bf7f"
      },
      "source": [
        "import numpy as np\n",
        "import pandas as pd\n",
        "import zipfile\n",
        "\n",
        "\n",
        "from google.colab import files\n",
        "uploaded = files.upload()\n",
        "uploaded = files.upload()\n",
        "\n",
        "#데이터 압축 풀기\n",
        "test_dir = 'testData.tsv.zip'\n",
        "train_dir= 'labeledTrainData.tsv.zip'\n",
        "with zipfile.ZipFile(train_dir,'r') as z:\n",
        "    z.extractall()\n",
        "with zipfile.ZipFile(test_dir,'r') as z:\n",
        "    z.extractall()\n",
        "\n",
        "#데이터 불러오기\n",
        "train = pd.read_csv('labeledTrainData.tsv',header=0, delimiter='\\t', quoting=3)\n",
        "test = pd.read_csv('testData.tsv',header=0,delimiter='\\t', quoting=3)\n",
        "train.head()\n",
        "\n",
        "#데이터 형태 파악\n",
        "test.shape\n",
        "train.info()\n",
        "train['sentiment'].value_counts()"
      ],
      "execution_count": null,
      "outputs": [
        {
          "output_type": "display_data",
          "data": {
            "text/html": [
              "\n",
              "     <input type=\"file\" id=\"files-cae14133-1a12-4ea5-820d-a3ebff1b2cb7\" name=\"files[]\" multiple disabled\n",
              "        style=\"border:none\" />\n",
              "     <output id=\"result-cae14133-1a12-4ea5-820d-a3ebff1b2cb7\">\n",
              "      Upload widget is only available when the cell has been executed in the\n",
              "      current browser session. Please rerun this cell to enable.\n",
              "      </output>\n",
              "      <script src=\"/nbextensions/google.colab/files.js\"></script> "
            ],
            "text/plain": [
              "<IPython.core.display.HTML object>"
            ]
          },
          "metadata": {}
        },
        {
          "output_type": "stream",
          "name": "stdout",
          "text": [
            "Saving labeledTrainData.tsv.zip to labeledTrainData.tsv.zip\n"
          ]
        },
        {
          "output_type": "display_data",
          "data": {
            "text/html": [
              "\n",
              "     <input type=\"file\" id=\"files-b61afd1f-a6c8-4e6b-81a9-3bdb48eeab64\" name=\"files[]\" multiple disabled\n",
              "        style=\"border:none\" />\n",
              "     <output id=\"result-b61afd1f-a6c8-4e6b-81a9-3bdb48eeab64\">\n",
              "      Upload widget is only available when the cell has been executed in the\n",
              "      current browser session. Please rerun this cell to enable.\n",
              "      </output>\n",
              "      <script src=\"/nbextensions/google.colab/files.js\"></script> "
            ],
            "text/plain": [
              "<IPython.core.display.HTML object>"
            ]
          },
          "metadata": {}
        },
        {
          "output_type": "stream",
          "name": "stdout",
          "text": [
            "Saving testData.tsv.zip to testData.tsv.zip\n",
            "<class 'pandas.core.frame.DataFrame'>\n",
            "RangeIndex: 25000 entries, 0 to 24999\n",
            "Data columns (total 3 columns):\n",
            " #   Column     Non-Null Count  Dtype \n",
            "---  ------     --------------  ----- \n",
            " 0   id         25000 non-null  object\n",
            " 1   sentiment  25000 non-null  int64 \n",
            " 2   review     25000 non-null  object\n",
            "dtypes: int64(1), object(2)\n",
            "memory usage: 586.1+ KB\n"
          ]
        },
        {
          "output_type": "execute_result",
          "data": {
            "text/plain": [
              "1    12500\n",
              "0    12500\n",
              "Name: sentiment, dtype: int64"
            ]
          },
          "metadata": {},
          "execution_count": 13
        }
      ]
    },
    {
      "cell_type": "code",
      "metadata": {
        "execution": {
          "iopub.status.busy": "2021-10-08T16:46:36.605338Z",
          "iopub.execute_input": "2021-10-08T16:46:36.606062Z",
          "iopub.status.idle": "2021-10-08T16:46:36.6135Z",
          "shell.execute_reply.started": "2021-10-08T16:46:36.606027Z",
          "shell.execute_reply": "2021-10-08T16:46:36.612616Z"
        },
        "trusted": true,
        "colab": {
          "base_uri": "https://localhost:8080/",
          "height": 71
        },
        "id": "x3vxJXmtYqwj",
        "outputId": "39f73e34-b30b-4af0-9e6a-a9e19b01be86"
      },
      "source": [
        "#데이터 정제\n",
        "train.head()\n",
        "train['review'][0][:700] #review 데이터가 html 태그를 포함하고 있음을 알 수 있다"
      ],
      "execution_count": null,
      "outputs": [
        {
          "output_type": "execute_result",
          "data": {
            "application/vnd.google.colaboratory.intrinsic+json": {
              "type": "string"
            },
            "text/plain": [
              "'\"With all this stuff going down at the moment with MJ i\\'ve started listening to his music, watching the odd documentary here and there, watched The Wiz and watched Moonwalker again. Maybe i just want to get a certain insight into this guy who i thought was really cool in the eighties just to maybe make up my mind whether he is guilty or innocent. Moonwalker is part biography, part feature film which i remember going to see at the cinema when it was originally released. Some of it has subtle messages about MJ\\'s feeling towards the press and also the obvious message of drugs are bad m\\'kay.<br /><br />Visually impressive but of course this is all about Michael Jackson so unless you remotely lik'"
            ]
          },
          "metadata": {},
          "execution_count": 14
        }
      ]
    },
    {
      "cell_type": "code",
      "metadata": {
        "execution": {
          "iopub.status.busy": "2021-10-08T16:46:39.169574Z",
          "iopub.execute_input": "2021-10-08T16:46:39.170392Z",
          "iopub.status.idle": "2021-10-08T16:46:39.377464Z",
          "shell.execute_reply.started": "2021-10-08T16:46:39.170355Z",
          "shell.execute_reply": "2021-10-08T16:46:39.37645Z"
        },
        "trusted": true,
        "colab": {
          "base_uri": "https://localhost:8080/",
          "height": 109
        },
        "id": "swYaDRlaYqwj",
        "outputId": "38f4254f-67eb-49e4-a9e8-f2172be2978e"
      },
      "source": [
        "from bs4 import BeautifulSoup\n",
        "\n",
        "#beautifulsoup를 불러와서 html 태그를 제거\n",
        "examplel = BeautifulSoup(train['review'][0], 'html5lib')\n",
        "print(train['review'][0][:700])\n",
        "examplel.get_text()[:700]"
      ],
      "execution_count": null,
      "outputs": [
        {
          "output_type": "stream",
          "name": "stdout",
          "text": [
            "\"With all this stuff going down at the moment with MJ i've started listening to his music, watching the odd documentary here and there, watched The Wiz and watched Moonwalker again. Maybe i just want to get a certain insight into this guy who i thought was really cool in the eighties just to maybe make up my mind whether he is guilty or innocent. Moonwalker is part biography, part feature film which i remember going to see at the cinema when it was originally released. Some of it has subtle messages about MJ's feeling towards the press and also the obvious message of drugs are bad m'kay.<br /><br />Visually impressive but of course this is all about Michael Jackson so unless you remotely lik\n"
          ]
        },
        {
          "output_type": "execute_result",
          "data": {
            "application/vnd.google.colaboratory.intrinsic+json": {
              "type": "string"
            },
            "text/plain": [
              "'\"With all this stuff going down at the moment with MJ i\\'ve started listening to his music, watching the odd documentary here and there, watched The Wiz and watched Moonwalker again. Maybe i just want to get a certain insight into this guy who i thought was really cool in the eighties just to maybe make up my mind whether he is guilty or innocent. Moonwalker is part biography, part feature film which i remember going to see at the cinema when it was originally released. Some of it has subtle messages about MJ\\'s feeling towards the press and also the obvious message of drugs are bad m\\'kay.Visually impressive but of course this is all about Michael Jackson so unless you remotely like MJ in anyw'"
            ]
          },
          "metadata": {},
          "execution_count": 15
        }
      ]
    },
    {
      "cell_type": "code",
      "metadata": {
        "execution": {
          "iopub.status.busy": "2021-10-08T11:53:54.792772Z",
          "iopub.execute_input": "2021-10-08T11:53:54.793535Z",
          "iopub.status.idle": "2021-10-08T11:53:54.800038Z",
          "shell.execute_reply.started": "2021-10-08T11:53:54.793495Z",
          "shell.execute_reply": "2021-10-08T11:53:54.799265Z"
        },
        "trusted": true,
        "colab": {
          "base_uri": "https://localhost:8080/"
        },
        "id": "KW21y40xYqwk",
        "outputId": "1400d4e0-eff5-4ce4-a4fc-b2662a17136a"
      },
      "source": [
        "import nltk\n",
        "from nltk.corpus import stopwords\n",
        "nltk.download('stopwords')\n",
        "\n",
        "stopwords.words('english')[:10]"
      ],
      "execution_count": null,
      "outputs": [
        {
          "output_type": "stream",
          "name": "stdout",
          "text": [
            "[nltk_data] Downloading package stopwords to /root/nltk_data...\n",
            "[nltk_data]   Unzipping corpora/stopwords.zip.\n"
          ]
        },
        {
          "output_type": "execute_result",
          "data": {
            "text/plain": [
              "['i', 'me', 'my', 'myself', 'we', 'our', 'ours', 'ourselves', 'you', \"you're\"]"
            ]
          },
          "metadata": {},
          "execution_count": 16
        }
      ]
    },
    {
      "cell_type": "code",
      "metadata": {
        "execution": {
          "iopub.status.busy": "2021-10-08T16:46:59.891552Z",
          "iopub.execute_input": "2021-10-08T16:46:59.892375Z",
          "iopub.status.idle": "2021-10-08T16:46:59.899813Z",
          "shell.execute_reply.started": "2021-10-08T16:46:59.892327Z",
          "shell.execute_reply": "2021-10-08T16:46:59.898878Z"
        },
        "trusted": true,
        "colab": {
          "base_uri": "https://localhost:8080/",
          "height": 89
        },
        "id": "ad-Tdux9Yqwk",
        "outputId": "a2f79302-c5e5-44a7-9ff1-40b9fdb91f91"
      },
      "source": [
        "import re\n",
        "\n",
        "#알파벳이 아닌 문자를 공백으로 대체\n",
        "alpha_only = re.sub('[^a-zA-Z]', ' ', examplel.get_text())\n",
        "alpha_only"
      ],
      "execution_count": null,
      "outputs": [
        {
          "output_type": "execute_result",
          "data": {
            "application/vnd.google.colaboratory.intrinsic+json": {
              "type": "string"
            },
            "text/plain": [
              "' With all this stuff going down at the moment with MJ i ve started listening to his music  watching the odd documentary here and there  watched The Wiz and watched Moonwalker again  Maybe i just want to get a certain insight into this guy who i thought was really cool in the eighties just to maybe make up my mind whether he is guilty or innocent  Moonwalker is part biography  part feature film which i remember going to see at the cinema when it was originally released  Some of it has subtle messages about MJ s feeling towards the press and also the obvious message of drugs are bad m kay Visually impressive but of course this is all about Michael Jackson so unless you remotely like MJ in anyway then you are going to hate this and find it boring  Some may call MJ an egotist for consenting to the making of this movie BUT MJ and most of his fans would say that he made it for the fans which if true is really nice of him The actual feature film bit when it finally starts is only on for    minutes or so excluding the Smooth Criminal sequence and Joe Pesci is convincing as a psychopathic all powerful drug lord  Why he wants MJ dead so bad is beyond me  Because MJ overheard his plans  Nah  Joe Pesci s character ranted that he wanted people to know it is he who is supplying drugs etc so i dunno  maybe he just hates MJ s music Lots of cool things in this like MJ turning into a car and a robot and the whole Speed Demon sequence  Also  the director must have had the patience of a saint when it came to filming the kiddy Bad sequence as usually directors hate working with one kid let alone a whole bunch of them performing a complex dance scene Bottom line  this movie is for people who like MJ on one level or another  which i think is most people   If not  then stay away  It does try and give off a wholesome message and ironically MJ s bestest buddy in this movie is a girl  Michael Jackson is truly one of the most talented people ever to grace this planet but is he guilty  Well  with all the attention i ve gave this subject    hmmm well i don t know because people can be different behind closed doors  i know this for a fact  He is either an extremely nice but stupid guy or one of the most sickest liars  I hope he is not the latter  '"
            ]
          },
          "metadata": {},
          "execution_count": 17
        }
      ]
    },
    {
      "cell_type": "code",
      "metadata": {
        "execution": {
          "iopub.status.busy": "2021-10-08T16:47:09.246985Z",
          "iopub.execute_input": "2021-10-08T16:47:09.247984Z",
          "iopub.status.idle": "2021-10-08T16:47:09.253791Z",
          "shell.execute_reply.started": "2021-10-08T16:47:09.247934Z",
          "shell.execute_reply": "2021-10-08T16:47:09.252907Z"
        },
        "trusted": true,
        "colab": {
          "base_uri": "https://localhost:8080/"
        },
        "id": "qqcLsmIkYqwl",
        "outputId": "32eeb443-3926-42a8-f78f-d507fce72f6d"
      },
      "source": [
        "#대소문자를 다르게 인식하는 경우를 방지하기 위해 모든 문자열을 소문자로 변경\n",
        "lower_case = alpha_only.lower()\n",
        "\n",
        "#단어 단위로 분해\n",
        "words = lower_case.split()\n",
        "print(words[:10])"
      ],
      "execution_count": null,
      "outputs": [
        {
          "output_type": "stream",
          "name": "stdout",
          "text": [
            "['with', 'all', 'this', 'stuff', 'going', 'down', 'at', 'the', 'moment', 'with']\n"
          ]
        }
      ]
    },
    {
      "cell_type": "code",
      "metadata": {
        "execution": {
          "iopub.status.busy": "2021-10-08T16:47:10.556091Z",
          "iopub.execute_input": "2021-10-08T16:47:10.556834Z",
          "iopub.status.idle": "2021-10-08T16:47:10.624036Z",
          "shell.execute_reply.started": "2021-10-08T16:47:10.556797Z",
          "shell.execute_reply": "2021-10-08T16:47:10.623154Z"
        },
        "trusted": true,
        "colab": {
          "base_uri": "https://localhost:8080/"
        },
        "id": "Wfx76LEPYqwl",
        "outputId": "43990587-8962-49a7-c1a3-e790cb8c0f9d"
      },
      "source": [
        "import nltk\n",
        "from nltk.corpus import stopwords\n",
        "\n",
        "#분석에 큰 의미가 없는 불용어를 제거\n",
        "stopwords.words('english')[:10]\n",
        "words = [w for w in words if not w in stopwords.words('english')]\n",
        "words[:10]"
      ],
      "execution_count": null,
      "outputs": [
        {
          "output_type": "execute_result",
          "data": {
            "text/plain": [
              "['stuff',\n",
              " 'going',\n",
              " 'moment',\n",
              " 'mj',\n",
              " 'started',\n",
              " 'listening',\n",
              " 'music',\n",
              " 'watching',\n",
              " 'odd',\n",
              " 'documentary']"
            ]
          },
          "metadata": {},
          "execution_count": 19
        }
      ]
    },
    {
      "cell_type": "code",
      "metadata": {
        "execution": {
          "iopub.status.busy": "2021-10-08T16:47:12.400509Z",
          "iopub.execute_input": "2021-10-08T16:47:12.400818Z",
          "iopub.status.idle": "2021-10-08T16:47:12.411812Z",
          "shell.execute_reply.started": "2021-10-08T16:47:12.400789Z",
          "shell.execute_reply": "2021-10-08T16:47:12.410863Z"
        },
        "trusted": true,
        "colab": {
          "base_uri": "https://localhost:8080/"
        },
        "id": "ByVtIJLQYqwm",
        "outputId": "fc8a7d55-f250-4b29-f72d-1bef84f0304f"
      },
      "source": [
        "from nltk.stem.snowball import SnowballStemmer\n",
        "\n",
        "#stemmer를 사용하여 어간추출\n",
        "print('stemmer 적용 전\\n',words[:10])\n",
        "stemmer = SnowballStemmer('english')\n",
        "words = [stemmer.stem(w) for w in words]\n",
        "print('stemmer 적용 후\\n',words[:10])"
      ],
      "execution_count": null,
      "outputs": [
        {
          "output_type": "stream",
          "name": "stdout",
          "text": [
            "stemmer 적용 전\n",
            " ['stuff', 'going', 'moment', 'mj', 'started', 'listening', 'music', 'watching', 'odd', 'documentary']\n",
            "stemmer 적용 후\n",
            " ['stuff', 'go', 'moment', 'mj', 'start', 'listen', 'music', 'watch', 'odd', 'documentari']\n"
          ]
        }
      ]
    },
    {
      "cell_type": "code",
      "metadata": {
        "execution": {
          "iopub.status.busy": "2021-10-08T16:47:14.229755Z",
          "iopub.execute_input": "2021-10-08T16:47:14.230069Z",
          "iopub.status.idle": "2021-10-08T16:47:14.302569Z",
          "shell.execute_reply.started": "2021-10-08T16:47:14.230034Z",
          "shell.execute_reply": "2021-10-08T16:47:14.301613Z"
        },
        "trusted": true,
        "colab": {
          "base_uri": "https://localhost:8080/",
          "height": 89
        },
        "id": "Exud-WtwYqwn",
        "outputId": "934de476-aa20-4142-abc7-f261095e7119"
      },
      "source": [
        "def data_purification(review):\n",
        "    # 1. HTML 제거\n",
        "    review_text = BeautifulSoup(review, 'html.parser').get_text()\n",
        "    # 2. 알파벳이 아닌 문자를 공백으로 변환 \n",
        "    alpha_only = re.sub('[^a-zA-Z]', ' ', review)\n",
        "    # 3. 소문자 변환\n",
        "    alpha_only.lower()\n",
        "    # 4. 단어 단위로 분해\n",
        "    words = alpha_only.split()\n",
        "    # 5. 불용어 제거\n",
        "    meaningful_words = [w for w in words if w not in stopwords.words('english')]\n",
        "    # 6. 어간 추출\n",
        "    stemming_words = [stemmer.stem(w) for w in meaningful_words]\n",
        "    # 7. 공백으로 구분된 문자열로 결합하여 return\n",
        "    return (' '.join(stemming_words))\n",
        "\n",
        "clean_review = data_purification(train['review'][0])\n",
        "clean_review"
      ],
      "execution_count": null,
      "outputs": [
        {
          "output_type": "execute_result",
          "data": {
            "application/vnd.google.colaboratory.intrinsic+json": {
              "type": "string"
            },
            "text/plain": [
              "'with stuff go moment mj start listen music watch odd documentari watch the wiz watch moonwalk mayb want get certain insight guy thought realli cool eighti mayb make mind whether guilti innoc moonwalk part biographi part featur film rememb go see cinema origin releas some subtl messag mj feel toward press also obvious messag drug bad kay br br visual impress cours michael jackson unless remot like mj anyway go hate find bore some may call mj egotist consent make movi but mj fan would say made fan true realli nice br br the actual featur film bit final start minut exclud smooth crimin sequenc joe pesci convinc psychopath power drug lord whi want mj dead bad beyond becaus mj overheard plan nah joe pesci charact rant want peopl know suppli drug etc dunno mayb hate mj music br br lot cool thing like mj turn car robot whole speed demon sequenc also director must patienc saint came film kiddi bad sequenc usual director hate work one kid let alon whole bunch perform complex danc scene br br bottom line movi peopl like mj one level anoth think peopl if stay away it tri give wholesom messag iron mj bestest buddi movi girl michael jackson truli one talent peopl ever grace planet guilti well attent gave subject hmmm well know peopl differ behind close door know fact he either extrem nice stupid guy one sickest liar i hope latter'"
            ]
          },
          "metadata": {},
          "execution_count": 21
        }
      ]
    },
    {
      "cell_type": "code",
      "metadata": {
        "execution": {
          "iopub.status.busy": "2021-10-08T16:47:17.018168Z",
          "iopub.execute_input": "2021-10-08T16:47:17.018445Z",
          "iopub.status.idle": "2021-10-08T16:47:17.025404Z",
          "shell.execute_reply.started": "2021-10-08T16:47:17.018418Z",
          "shell.execute_reply": "2021-10-08T16:47:17.024454Z"
        },
        "trusted": true,
        "id": "0DOfoM5JYqwn"
      },
      "source": [
        "from multiprocessing import Pool\n",
        "\n",
        "#데이터 정제를 위한 병렬처리 함수\n",
        "def apply_df(args):\n",
        "    df, func, kwargs = args\n",
        "    return df.apply(func, **kwargs)\n",
        "\n",
        "def apply_by_multiprocessing(df, func, **kwargs):\n",
        "    workers = kwargs.pop('workers')\n",
        "    pool = Pool(processes = workers)\n",
        "    result = pool.map(apply_df, [(d, func, kwargs) for d in np.array_split(df,workers)])\n",
        "    pool.close()\n",
        "    return pd.concat(list(result))\n"
      ],
      "execution_count": null,
      "outputs": []
    },
    {
      "cell_type": "code",
      "metadata": {
        "execution": {
          "iopub.status.busy": "2021-10-08T16:47:20.144615Z",
          "iopub.execute_input": "2021-10-08T16:47:20.144895Z",
          "iopub.status.idle": "2021-10-08T16:53:41.816735Z",
          "shell.execute_reply.started": "2021-10-08T16:47:20.144867Z",
          "shell.execute_reply": "2021-10-08T16:53:41.815503Z"
        },
        "trusted": true,
        "colab": {
          "base_uri": "https://localhost:8080/"
        },
        "id": "a9YddttsYqwo",
        "outputId": "af8501d7-7f1e-430b-b38e-3cf90fd04496"
      },
      "source": [
        "%time clean_train_reviews = apply_by_multiprocessing(train['review'], data_purification, workers=4)"
      ],
      "execution_count": null,
      "outputs": [
        {
          "output_type": "stream",
          "name": "stdout",
          "text": [
            "CPU times: user 3.67 s, sys: 757 ms, total: 4.43 s\n",
            "Wall time: 12min 4s\n"
          ]
        }
      ]
    },
    {
      "cell_type": "code",
      "metadata": {
        "execution": {
          "iopub.status.busy": "2021-10-08T16:54:29.709952Z",
          "iopub.execute_input": "2021-10-08T16:54:29.710242Z",
          "iopub.status.idle": "2021-10-08T17:00:41.969502Z",
          "shell.execute_reply.started": "2021-10-08T16:54:29.710215Z",
          "shell.execute_reply": "2021-10-08T17:00:41.967801Z"
        },
        "trusted": true,
        "colab": {
          "base_uri": "https://localhost:8080/"
        },
        "id": "asBq2wpJYqwo",
        "outputId": "07dd93ad-b7a9-47dc-a2c0-4490f4ced15c"
      },
      "source": [
        "%time clean_test_reviews = apply_by_multiprocessing(test['review'], data_purification, workers=4)"
      ],
      "execution_count": null,
      "outputs": [
        {
          "output_type": "stream",
          "name": "stdout",
          "text": [
            "CPU times: user 3.49 s, sys: 776 ms, total: 4.26 s\n",
            "Wall time: 11min 50s\n"
          ]
        }
      ]
    },
    {
      "cell_type": "code",
      "metadata": {
        "execution": {
          "iopub.status.busy": "2021-10-08T17:05:58.651299Z",
          "iopub.execute_input": "2021-10-08T17:05:58.65155Z",
          "iopub.status.idle": "2021-10-08T17:05:59.969485Z",
          "shell.execute_reply.started": "2021-10-08T17:05:58.651522Z",
          "shell.execute_reply": "2021-10-08T17:05:59.968576Z"
        },
        "trusted": true,
        "colab": {
          "base_uri": "https://localhost:8080/",
          "height": 359
        },
        "id": "k8KKUhPSYqwo",
        "outputId": "7950e1c2-de7a-424a-bf1c-bdae7a98b2b5"
      },
      "source": [
        "#중복되는 단어를 제외한 단어 수\n",
        "train['words'] = clean_train_reviews.apply(lambda x: len(str(x).split()))\n",
        "train['unique_words'] = clean_train_reviews.apply(lambda x: len(set(str(x).split())))\n",
        "test['unique_words'] = clean_test_reviews.apply(lambda x: len(set(str(x).split())))\n",
        "train[:10]"
      ],
      "execution_count": null,
      "outputs": [
        {
          "output_type": "execute_result",
          "data": {
            "text/html": [
              "<div>\n",
              "<style scoped>\n",
              "    .dataframe tbody tr th:only-of-type {\n",
              "        vertical-align: middle;\n",
              "    }\n",
              "\n",
              "    .dataframe tbody tr th {\n",
              "        vertical-align: top;\n",
              "    }\n",
              "\n",
              "    .dataframe thead th {\n",
              "        text-align: right;\n",
              "    }\n",
              "</style>\n",
              "<table border=\"1\" class=\"dataframe\">\n",
              "  <thead>\n",
              "    <tr style=\"text-align: right;\">\n",
              "      <th></th>\n",
              "      <th>id</th>\n",
              "      <th>sentiment</th>\n",
              "      <th>review</th>\n",
              "      <th>words</th>\n",
              "      <th>unique_words</th>\n",
              "    </tr>\n",
              "  </thead>\n",
              "  <tbody>\n",
              "    <tr>\n",
              "      <th>0</th>\n",
              "      <td>\"5814_8\"</td>\n",
              "      <td>1</td>\n",
              "      <td>\"With all this stuff going down at the moment ...</td>\n",
              "      <td>239</td>\n",
              "      <td>167</td>\n",
              "    </tr>\n",
              "    <tr>\n",
              "      <th>1</th>\n",
              "      <td>\"2381_9\"</td>\n",
              "      <td>1</td>\n",
              "      <td>\"\\\"The Classic War of the Worlds\\\" by Timothy ...</td>\n",
              "      <td>89</td>\n",
              "      <td>68</td>\n",
              "    </tr>\n",
              "    <tr>\n",
              "      <th>2</th>\n",
              "      <td>\"7759_3\"</td>\n",
              "      <td>0</td>\n",
              "      <td>\"The film starts with a manager (Nicholas Bell...</td>\n",
              "      <td>256</td>\n",
              "      <td>209</td>\n",
              "    </tr>\n",
              "    <tr>\n",
              "      <th>3</th>\n",
              "      <td>\"3630_4\"</td>\n",
              "      <td>0</td>\n",
              "      <td>\"It must be assumed that those who praised thi...</td>\n",
              "      <td>200</td>\n",
              "      <td>164</td>\n",
              "    </tr>\n",
              "    <tr>\n",
              "      <th>4</th>\n",
              "      <td>\"9495_8\"</td>\n",
              "      <td>1</td>\n",
              "      <td>\"Superbly trashy and wondrously unpretentious ...</td>\n",
              "      <td>222</td>\n",
              "      <td>196</td>\n",
              "    </tr>\n",
              "    <tr>\n",
              "      <th>5</th>\n",
              "      <td>\"8196_8\"</td>\n",
              "      <td>1</td>\n",
              "      <td>\"I dont know why people think this is such a b...</td>\n",
              "      <td>48</td>\n",
              "      <td>38</td>\n",
              "    </tr>\n",
              "    <tr>\n",
              "      <th>6</th>\n",
              "      <td>\"7166_2\"</td>\n",
              "      <td>0</td>\n",
              "      <td>\"This movie could have been very good, but com...</td>\n",
              "      <td>62</td>\n",
              "      <td>50</td>\n",
              "    </tr>\n",
              "    <tr>\n",
              "      <th>7</th>\n",
              "      <td>\"10633_1\"</td>\n",
              "      <td>0</td>\n",
              "      <td>\"I watched this video at a friend's house. I'm...</td>\n",
              "      <td>78</td>\n",
              "      <td>64</td>\n",
              "    </tr>\n",
              "    <tr>\n",
              "      <th>8</th>\n",
              "      <td>\"319_1\"</td>\n",
              "      <td>0</td>\n",
              "      <td>\"A friend of mine bought this film for £1, and...</td>\n",
              "      <td>100</td>\n",
              "      <td>81</td>\n",
              "    </tr>\n",
              "    <tr>\n",
              "      <th>9</th>\n",
              "      <td>\"8713_10\"</td>\n",
              "      <td>1</td>\n",
              "      <td>\"&lt;br /&gt;&lt;br /&gt;This movie is full of references....</td>\n",
              "      <td>30</td>\n",
              "      <td>25</td>\n",
              "    </tr>\n",
              "  </tbody>\n",
              "</table>\n",
              "</div>"
            ],
            "text/plain": [
              "          id  sentiment  ... words  unique_words\n",
              "0   \"5814_8\"          1  ...   239           167\n",
              "1   \"2381_9\"          1  ...    89            68\n",
              "2   \"7759_3\"          0  ...   256           209\n",
              "3   \"3630_4\"          0  ...   200           164\n",
              "4   \"9495_8\"          1  ...   222           196\n",
              "5   \"8196_8\"          1  ...    48            38\n",
              "6   \"7166_2\"          0  ...    62            50\n",
              "7  \"10633_1\"          0  ...    78            64\n",
              "8    \"319_1\"          0  ...   100            81\n",
              "9  \"8713_10\"          1  ...    30            25\n",
              "\n",
              "[10 rows x 5 columns]"
            ]
          },
          "metadata": {},
          "execution_count": 18
        }
      ]
    },
    {
      "cell_type": "code",
      "metadata": {
        "execution": {
          "iopub.status.busy": "2021-10-08T17:28:44.824899Z",
          "iopub.execute_input": "2021-10-08T17:28:44.825278Z",
          "iopub.status.idle": "2021-10-08T17:28:45.713164Z",
          "shell.execute_reply.started": "2021-10-08T17:28:44.825241Z",
          "shell.execute_reply": "2021-10-08T17:28:45.712308Z"
        },
        "trusted": true,
        "colab": {
          "base_uri": "https://localhost:8080/",
          "height": 495
        },
        "id": "Q67i1i2UYqwp",
        "outputId": "032ab664-5ae9-4833-fef5-66224e18f039"
      },
      "source": [
        "import seaborn as sns\n",
        "from matplotlib import pyplot as plt\n",
        "\n",
        "fig, ax = plt.subplots(ncols=2)\n",
        "fig.set_size_inches(18,6)\n",
        "print('리뷰별 단어 평균 값:', train['words'].mean())\n",
        "print('리뷰별 단어 중간 값:', train['words'].median())\n",
        "sns.histplot(train['words'], bins=100, ax=ax[0])\n",
        "ax[0].axvline(train['words'].median(), linestyle='dashed')\n",
        "ax[0].set_title('words distribution')\n",
        "\n",
        "print('리뷰별 고유 단어 평균 값:', train['unique_words'].mean())\n",
        "print('리뷰별 고유 단어 중간 값:', train['unique_words'].median())\n",
        "sns.histplot(train['unique_words'], bins=100, color='g', ax=ax[1])\n",
        "ax[1].axvline(train['unique_words'].median(), linestyle='dashed')\n",
        "ax[1].set_title('unique words distribution')\n"
      ],
      "execution_count": null,
      "outputs": [
        {
          "output_type": "stream",
          "name": "stdout",
          "text": [
            "리뷰별 단어 평균 값: 135.2732\n",
            "리뷰별 단어 중간 값: 101.0\n",
            "리뷰별 고유 단어 평균 값: 101.25816\n",
            "리뷰별 고유 단어 중간 값: 80.0\n"
          ]
        },
        {
          "output_type": "execute_result",
          "data": {
            "text/plain": [
              "Text(0.5, 1.0, 'unique words distribution')"
            ]
          },
          "metadata": {},
          "execution_count": 19
        },
        {
          "output_type": "display_data",
          "data": {
            "image/png": "[encoded data removed]",
            "text/plain": [
              "<Figure size 1296x432 with 2 Axes>"
            ]
          },
          "metadata": {
            "needs_background": "light"
          }
        }
      ]
    },
    {
      "cell_type": "code",
      "metadata": {
        "execution": {
          "iopub.status.busy": "2021-10-08T17:54:55.460972Z",
          "iopub.execute_input": "2021-10-08T17:54:55.461698Z",
          "iopub.status.idle": "2021-10-08T17:54:55.472884Z",
          "shell.execute_reply.started": "2021-10-08T17:54:55.461647Z",
          "shell.execute_reply": "2021-10-08T17:54:55.472142Z"
        },
        "trusted": true,
        "colab": {
          "base_uri": "https://localhost:8080/"
        },
        "id": "6J9KuoAgYqwp",
        "outputId": "46a77612-83df-4421-fc51-ae33aca5f4bb"
      },
      "source": [
        "from sklearn.feature_extraction.text import CountVectorizer\n",
        "from sklearn.pipeline import Pipeline\n",
        "\n",
        "vectorizer = CountVectorizer(preprocessor=None, tokenizer=None,stop_words=None, ngram_range=(1,3), analyzer='word',min_df=2,max_features = 20000)\n",
        "vectorizer"
      ],
      "execution_count": null,
      "outputs": [
        {
          "output_type": "execute_result",
          "data": {
            "text/plain": [
              "CountVectorizer(analyzer='word', binary=False, decode_error='strict',\n",
              "                dtype=<class 'numpy.int64'>, encoding='utf-8', input='content',\n",
              "                lowercase=True, max_df=1.0, max_features=20000, min_df=2,\n",
              "                ngram_range=(1, 3), preprocessor=None, stop_words=None,\n",
              "                strip_accents=None, token_pattern='(?u)\\\\b\\\\w\\\\w+\\\\b',\n",
              "                tokenizer=None, vocabulary=None)"
            ]
          },
          "metadata": {},
          "execution_count": 20
        }
      ]
    },
    {
      "cell_type": "code",
      "metadata": {
        "execution": {
          "iopub.status.busy": "2021-10-08T18:03:17.847868Z",
          "iopub.execute_input": "2021-10-08T18:03:17.848821Z",
          "iopub.status.idle": "2021-10-08T18:04:01.028305Z",
          "shell.execute_reply.started": "2021-10-08T18:03:17.848775Z",
          "shell.execute_reply": "2021-10-08T18:04:01.027247Z"
        },
        "trusted": true,
        "colab": {
          "base_uri": "https://localhost:8080/"
        },
        "id": "IYHzS_V1Yqwq",
        "outputId": "6f139426-3a1a-4d18-f035-302280550a1b"
      },
      "source": [
        "#데이터 벡터화\n",
        "pipeline = Pipeline([('vect',vectorizer),])\n",
        "%time train_data_features = pipeline.fit_transform(clean_train_reviews)\n",
        "train_data_features"
      ],
      "execution_count": null,
      "outputs": [
        {
          "output_type": "stream",
          "name": "stdout",
          "text": [
            "CPU times: user 32.7 s, sys: 1.02 s, total: 33.7 s\n",
            "Wall time: 33.7 s\n"
          ]
        },
        {
          "output_type": "execute_result",
          "data": {
            "text/plain": [
              "<25000x20000 sparse matrix of type '<class 'numpy.int64'>'\n",
              "\twith 3089550 stored elements in Compressed Sparse Row format>"
            ]
          },
          "metadata": {},
          "execution_count": 21
        }
      ]
    },
    {
      "cell_type": "code",
      "metadata": {
        "execution": {
          "iopub.status.busy": "2021-10-08T18:13:42.600454Z",
          "iopub.execute_input": "2021-10-08T18:13:42.60079Z",
          "iopub.status.idle": "2021-10-08T18:13:42.655316Z",
          "shell.execute_reply.started": "2021-10-08T18:13:42.600751Z",
          "shell.execute_reply": "2021-10-08T18:13:42.654267Z"
        },
        "trusted": true,
        "colab": {
          "base_uri": "https://localhost:8080/"
        },
        "id": "VIpFYdD1Yqwq",
        "outputId": "c2b38d29-3805-40a5-f1af-71be7b5345de"
      },
      "source": [
        "vocab = vectorizer.get_feature_names()\n",
        "print(len(vocab))\n",
        "vocab[:10]"
      ],
      "execution_count": null,
      "outputs": [
        {
          "output_type": "stream",
          "name": "stdout",
          "text": [
            "20000\n"
          ]
        },
        {
          "output_type": "execute_result",
          "data": {
            "text/plain": [
              "['aag',\n",
              " 'aaron',\n",
              " 'abandon',\n",
              " 'abbi',\n",
              " 'abbot',\n",
              " 'abbott',\n",
              " 'abc',\n",
              " 'abduct',\n",
              " 'abhay',\n",
              " 'abid']"
            ]
          },
          "metadata": {},
          "execution_count": 22
        }
      ]
    },
    {
      "cell_type": "code",
      "metadata": {
        "execution": {
          "iopub.status.busy": "2021-10-08T18:54:50.947992Z",
          "iopub.execute_input": "2021-10-08T18:54:50.948576Z",
          "iopub.status.idle": "2021-10-08T18:54:50.984329Z",
          "shell.execute_reply.started": "2021-10-08T18:54:50.948534Z",
          "shell.execute_reply": "2021-10-08T18:54:50.983342Z"
        },
        "trusted": true,
        "colab": {
          "base_uri": "https://localhost:8080/",
          "height": 164
        },
        "id": "eSc63JBVYqwq",
        "outputId": "ba9be60d-e5c1-4bac-9ced-bbb03f38c6ba"
      },
      "source": [
        "#벡터화된 피처를 확인\n",
        "dist = np.sum(train_data_features, axis=0)\n",
        "for tag, count in zip(vocab, dist):\n",
        "    print(count,tag)\n",
        "pd.DataFrame(dist, columns=vocab)"
      ],
      "execution_count": null,
      "outputs": [
        {
          "output_type": "stream",
          "name": "stdout",
          "text": [
            "[[ 26  48 290 ...  71  59  41]] aag\n"
          ]
        },
        {
          "output_type": "execute_result",
          "data": {
            "text/html": [
              "<div>\n",
              "<style scoped>\n",
              "    .dataframe tbody tr th:only-of-type {\n",
              "        vertical-align: middle;\n",
              "    }\n",
              "\n",
              "    .dataframe tbody tr th {\n",
              "        vertical-align: top;\n",
              "    }\n",
              "\n",
              "    .dataframe thead th {\n",
              "        text-align: right;\n",
              "    }\n",
              "</style>\n",
              "<table border=\"1\" class=\"dataframe\">\n",
              "  <thead>\n",
              "    <tr style=\"text-align: right;\">\n",
              "      <th></th>\n",
              "      <th>aag</th>\n",
              "      <th>aaron</th>\n",
              "      <th>abandon</th>\n",
              "      <th>abbi</th>\n",
              "      <th>abbot</th>\n",
              "      <th>abbott</th>\n",
              "      <th>abc</th>\n",
              "      <th>abduct</th>\n",
              "      <th>abhay</th>\n",
              "      <th>abid</th>\n",
              "      <th>abigail</th>\n",
              "      <th>abil</th>\n",
              "      <th>abil make</th>\n",
              "      <th>abl</th>\n",
              "      <th>abl get</th>\n",
              "      <th>abl make</th>\n",
              "      <th>abl see</th>\n",
              "      <th>abl watch</th>\n",
              "      <th>abli</th>\n",
              "      <th>aboard</th>\n",
              "      <th>abomin</th>\n",
              "      <th>aborigin</th>\n",
              "      <th>abort</th>\n",
              "      <th>abound</th>\n",
              "      <th>about</th>\n",
              "      <th>about mari</th>\n",
              "      <th>abraham</th>\n",
              "      <th>abraham lincoln</th>\n",
              "      <th>abroad</th>\n",
              "      <th>abrupt</th>\n",
              "      <th>absenc</th>\n",
              "      <th>absent</th>\n",
              "      <th>absolut</th>\n",
              "      <th>absolut aw</th>\n",
              "      <th>absolut brilliant</th>\n",
              "      <th>absolut hilari</th>\n",
              "      <th>absolut love</th>\n",
              "      <th>absolut noth</th>\n",
              "      <th>absolut perfect</th>\n",
              "      <th>absolut sens</th>\n",
              "      <th>...</th>\n",
              "      <th>yourself</th>\n",
              "      <th>youth</th>\n",
              "      <th>youtub</th>\n",
              "      <th>yr</th>\n",
              "      <th>yugoslavia</th>\n",
              "      <th>yup</th>\n",
              "      <th>yuppi</th>\n",
              "      <th>yuzna</th>\n",
              "      <th>yvonn</th>\n",
              "      <th>zabriski</th>\n",
              "      <th>zabriski point</th>\n",
              "      <th>zane</th>\n",
              "      <th>zani</th>\n",
              "      <th>zatoichi</th>\n",
              "      <th>zealand</th>\n",
              "      <th>zelah</th>\n",
              "      <th>zelah clark</th>\n",
              "      <th>zelda</th>\n",
              "      <th>zenia</th>\n",
              "      <th>zero</th>\n",
              "      <th>zero day</th>\n",
              "      <th>zero star</th>\n",
              "      <th>zeta</th>\n",
              "      <th>zeta jone</th>\n",
              "      <th>zhang</th>\n",
              "      <th>zizek</th>\n",
              "      <th>zodiac</th>\n",
              "      <th>zodiac killer</th>\n",
              "      <th>zoe</th>\n",
              "      <th>zombi</th>\n",
              "      <th>zombi br</th>\n",
              "      <th>zombi br br</th>\n",
              "      <th>zombi film</th>\n",
              "      <th>zombi flick</th>\n",
              "      <th>zombi movi</th>\n",
              "      <th>zone</th>\n",
              "      <th>zoo</th>\n",
              "      <th>zoom</th>\n",
              "      <th>zorro</th>\n",
              "      <th>zu</th>\n",
              "    </tr>\n",
              "  </thead>\n",
              "  <tbody>\n",
              "    <tr>\n",
              "      <th>0</th>\n",
              "      <td>26</td>\n",
              "      <td>48</td>\n",
              "      <td>290</td>\n",
              "      <td>30</td>\n",
              "      <td>29</td>\n",
              "      <td>30</td>\n",
              "      <td>125</td>\n",
              "      <td>55</td>\n",
              "      <td>28</td>\n",
              "      <td>28</td>\n",
              "      <td>26</td>\n",
              "      <td>562</td>\n",
              "      <td>25</td>\n",
              "      <td>1259</td>\n",
              "      <td>53</td>\n",
              "      <td>31</td>\n",
              "      <td>53</td>\n",
              "      <td>35</td>\n",
              "      <td>27</td>\n",
              "      <td>37</td>\n",
              "      <td>83</td>\n",
              "      <td>69</td>\n",
              "      <td>92</td>\n",
              "      <td>63</td>\n",
              "      <td>245</td>\n",
              "      <td>27</td>\n",
              "      <td>93</td>\n",
              "      <td>29</td>\n",
              "      <td>38</td>\n",
              "      <td>137</td>\n",
              "      <td>118</td>\n",
              "      <td>83</td>\n",
              "      <td>1850</td>\n",
              "      <td>29</td>\n",
              "      <td>35</td>\n",
              "      <td>42</td>\n",
              "      <td>93</td>\n",
              "      <td>154</td>\n",
              "      <td>29</td>\n",
              "      <td>27</td>\n",
              "      <td>...</td>\n",
              "      <td>28</td>\n",
              "      <td>363</td>\n",
              "      <td>61</td>\n",
              "      <td>25</td>\n",
              "      <td>28</td>\n",
              "      <td>27</td>\n",
              "      <td>32</td>\n",
              "      <td>25</td>\n",
              "      <td>25</td>\n",
              "      <td>40</td>\n",
              "      <td>36</td>\n",
              "      <td>70</td>\n",
              "      <td>38</td>\n",
              "      <td>33</td>\n",
              "      <td>47</td>\n",
              "      <td>43</td>\n",
              "      <td>34</td>\n",
              "      <td>28</td>\n",
              "      <td>31</td>\n",
              "      <td>390</td>\n",
              "      <td>44</td>\n",
              "      <td>33</td>\n",
              "      <td>38</td>\n",
              "      <td>37</td>\n",
              "      <td>37</td>\n",
              "      <td>85</td>\n",
              "      <td>45</td>\n",
              "      <td>25</td>\n",
              "      <td>27</td>\n",
              "      <td>1331</td>\n",
              "      <td>27</td>\n",
              "      <td>27</td>\n",
              "      <td>50</td>\n",
              "      <td>37</td>\n",
              "      <td>87</td>\n",
              "      <td>161</td>\n",
              "      <td>31</td>\n",
              "      <td>71</td>\n",
              "      <td>59</td>\n",
              "      <td>41</td>\n",
              "    </tr>\n",
              "  </tbody>\n",
              "</table>\n",
              "<p>1 rows × 20000 columns</p>\n",
              "</div>"
            ],
            "text/plain": [
              "   aag  aaron  abandon  abbi  abbot  ...  zone  zoo  zoom  zorro  zu\n",
              "0   26     48      290    30     29  ...   161   31    71     59  41\n",
              "\n",
              "[1 rows x 20000 columns]"
            ]
          },
          "metadata": {},
          "execution_count": 23
        }
      ]
    },
    {
      "cell_type": "code",
      "metadata": {
        "execution": {
          "iopub.status.busy": "2021-10-08T18:57:26.144896Z",
          "iopub.execute_input": "2021-10-08T18:57:26.145417Z",
          "iopub.status.idle": "2021-10-08T18:57:28.606399Z",
          "shell.execute_reply.started": "2021-10-08T18:57:26.145377Z",
          "shell.execute_reply": "2021-10-08T18:57:28.605507Z"
        },
        "trusted": true,
        "colab": {
          "base_uri": "https://localhost:8080/"
        },
        "id": "TF3oni64Yqwq",
        "outputId": "72a24c77-e129-4cfc-d7dc-505ea848dfbe"
      },
      "source": [
        "from sklearn.ensemble import RandomForestClassifier\n",
        "\n",
        "#랜덤포레스트 분류 모델 \n",
        "rf = RandomForestClassifier(n_estimators = 100, n_jobs = -1, random_state=2021) #트리 100개 \n",
        "rf"
      ],
      "execution_count": null,
      "outputs": [
        {
          "output_type": "execute_result",
          "data": {
            "text/plain": [
              "RandomForestClassifier(bootstrap=True, ccp_alpha=0.0, class_weight=None,\n",
              "                       criterion='gini', max_depth=None, max_features='auto',\n",
              "                       max_leaf_nodes=None, max_samples=None,\n",
              "                       min_impurity_decrease=0.0, min_impurity_split=None,\n",
              "                       min_samples_leaf=1, min_samples_split=2,\n",
              "                       min_weight_fraction_leaf=0.0, n_estimators=100,\n",
              "                       n_jobs=-1, oob_score=False, random_state=2021, verbose=0,\n",
              "                       warm_start=False)"
            ]
          },
          "metadata": {},
          "execution_count": 24
        }
      ]
    },
    {
      "cell_type": "code",
      "metadata": {
        "execution": {
          "iopub.status.busy": "2021-10-08T18:58:51.759867Z",
          "iopub.execute_input": "2021-10-08T18:58:51.760209Z",
          "iopub.status.idle": "2021-10-08T18:59:17.049159Z",
          "shell.execute_reply.started": "2021-10-08T18:58:51.760177Z",
          "shell.execute_reply": "2021-10-08T18:59:17.048238Z"
        },
        "trusted": true,
        "colab": {
          "base_uri": "https://localhost:8080/"
        },
        "id": "FDL8eaBmYqwr",
        "outputId": "ebc9c66c-e6f9-440a-82a5-412a4957dbd6"
      },
      "source": [
        "#데이터 훈련\n",
        "%time rf.fit(train_data_features, train['sentiment'])"
      ],
      "execution_count": null,
      "outputs": [
        {
          "output_type": "stream",
          "name": "stdout",
          "text": [
            "CPU times: user 1min 33s, sys: 76.5 ms, total: 1min 33s\n",
            "Wall time: 47.8 s\n"
          ]
        },
        {
          "output_type": "execute_result",
          "data": {
            "text/plain": [
              "RandomForestClassifier(bootstrap=True, ccp_alpha=0.0, class_weight=None,\n",
              "                       criterion='gini', max_depth=None, max_features='auto',\n",
              "                       max_leaf_nodes=None, max_samples=None,\n",
              "                       min_impurity_decrease=0.0, min_impurity_split=None,\n",
              "                       min_samples_leaf=1, min_samples_split=2,\n",
              "                       min_weight_fraction_leaf=0.0, n_estimators=100,\n",
              "                       n_jobs=-1, oob_score=False, random_state=2021, verbose=0,\n",
              "                       warm_start=False)"
            ]
          },
          "metadata": {},
          "execution_count": 25
        }
      ]
    },
    {
      "cell_type": "code",
      "metadata": {
        "execution": {
          "iopub.status.busy": "2021-10-08T19:03:01.954439Z",
          "iopub.execute_input": "2021-10-08T19:03:01.9548Z",
          "iopub.status.idle": "2021-10-08T19:06:55.109742Z",
          "shell.execute_reply.started": "2021-10-08T19:03:01.954763Z",
          "shell.execute_reply": "2021-10-08T19:06:55.108789Z"
        },
        "trusted": true,
        "colab": {
          "base_uri": "https://localhost:8080/"
        },
        "id": "R4oFZ2CtYqwr",
        "outputId": "882852ac-5d6f-434b-b369-4bdcda5151a3"
      },
      "source": [
        "from sklearn.model_selection import cross_val_score\n",
        "\n",
        "%time score = np.mean(cross_val_score(rf, train_data_features, train['sentiment'], cv = 10, scoring='roc_auc'))\n",
        "score"
      ],
      "execution_count": null,
      "outputs": [
        {
          "output_type": "stream",
          "name": "stdout",
          "text": [
            "CPU times: user 11.3 s, sys: 1.29 s, total: 12.6 s\n",
            "Wall time: 6min 51s\n"
          ]
        },
        {
          "output_type": "execute_result",
          "data": {
            "text/plain": [
              "0.927837792"
            ]
          },
          "metadata": {},
          "execution_count": 26
        }
      ]
    },
    {
      "cell_type": "code",
      "metadata": {
        "execution": {
          "iopub.status.busy": "2021-10-08T19:13:30.719373Z",
          "iopub.execute_input": "2021-10-08T19:13:30.720201Z",
          "iopub.status.idle": "2021-10-08T19:13:44.878663Z",
          "shell.execute_reply.started": "2021-10-08T19:13:30.720156Z",
          "shell.execute_reply": "2021-10-08T19:13:44.877761Z"
        },
        "trusted": true,
        "colab": {
          "base_uri": "https://localhost:8080/"
        },
        "id": "heMmlLVwYqwr",
        "outputId": "9b604f73-fc34-47e7-e6de-a8d34961bd44"
      },
      "source": [
        "#테스트 데이터 벡터화\n",
        "%time test_data_features = pipeline.transform(clean_test_reviews)\n",
        "test_data_features = test_data_features.toarray()"
      ],
      "execution_count": null,
      "outputs": [
        {
          "output_type": "stream",
          "name": "stdout",
          "text": [
            "CPU times: user 8.61 s, sys: 38 ms, total: 8.65 s\n",
            "Wall time: 8.65 s\n"
          ]
        }
      ]
    },
    {
      "cell_type": "code",
      "metadata": {
        "execution": {
          "iopub.status.busy": "2021-10-08T19:14:34.525354Z",
          "iopub.execute_input": "2021-10-08T19:14:34.525658Z",
          "iopub.status.idle": "2021-10-08T19:14:37.470104Z",
          "shell.execute_reply.started": "2021-10-08T19:14:34.525629Z",
          "shell.execute_reply": "2021-10-08T19:14:37.469487Z"
        },
        "trusted": true,
        "colab": {
          "base_uri": "https://localhost:8080/"
        },
        "id": "nsGXk4Z5Yqwr",
        "outputId": "94d9618b-1963-40d0-aaec-a9234ca71385"
      },
      "source": [
        "#데이터 예측\n",
        "result = rf.predict(test_data_features)\n",
        "result[:10]"
      ],
      "execution_count": null,
      "outputs": [
        {
          "output_type": "execute_result",
          "data": {
            "text/plain": [
              "array([1, 0, 1, 1, 1, 1, 0, 0, 0, 1])"
            ]
          },
          "metadata": {},
          "execution_count": 28
        }
      ]
    },
    {
      "cell_type": "code",
      "metadata": {
        "execution": {
          "iopub.status.busy": "2021-10-08T19:16:37.251541Z",
          "iopub.execute_input": "2021-10-08T19:16:37.251861Z",
          "iopub.status.idle": "2021-10-08T19:16:37.273675Z",
          "shell.execute_reply.started": "2021-10-08T19:16:37.25183Z",
          "shell.execute_reply": "2021-10-08T19:16:37.27272Z"
        },
        "trusted": true,
        "colab": {
          "base_uri": "https://localhost:8080/",
          "height": 204
        },
        "id": "huFH8mu_Yqws",
        "outputId": "7d432538-f1df-45b0-ca35-935d34535f86"
      },
      "source": [
        "#예측 결과를 데이터프레임으로 나타냄\n",
        "output = pd.DataFrame(data={'id':test['id'], 'sentiment':result})\n",
        "output.head()"
      ],
      "execution_count": null,
      "outputs": [
        {
          "output_type": "execute_result",
          "data": {
            "text/html": [
              "<div>\n",
              "<style scoped>\n",
              "    .dataframe tbody tr th:only-of-type {\n",
              "        vertical-align: middle;\n",
              "    }\n",
              "\n",
              "    .dataframe tbody tr th {\n",
              "        vertical-align: top;\n",
              "    }\n",
              "\n",
              "    .dataframe thead th {\n",
              "        text-align: right;\n",
              "    }\n",
              "</style>\n",
              "<table border=\"1\" class=\"dataframe\">\n",
              "  <thead>\n",
              "    <tr style=\"text-align: right;\">\n",
              "      <th></th>\n",
              "      <th>id</th>\n",
              "      <th>sentiment</th>\n",
              "    </tr>\n",
              "  </thead>\n",
              "  <tbody>\n",
              "    <tr>\n",
              "      <th>0</th>\n",
              "      <td>\"12311_10\"</td>\n",
              "      <td>1</td>\n",
              "    </tr>\n",
              "    <tr>\n",
              "      <th>1</th>\n",
              "      <td>\"8348_2\"</td>\n",
              "      <td>0</td>\n",
              "    </tr>\n",
              "    <tr>\n",
              "      <th>2</th>\n",
              "      <td>\"5828_4\"</td>\n",
              "      <td>1</td>\n",
              "    </tr>\n",
              "    <tr>\n",
              "      <th>3</th>\n",
              "      <td>\"7186_2\"</td>\n",
              "      <td>1</td>\n",
              "    </tr>\n",
              "    <tr>\n",
              "      <th>4</th>\n",
              "      <td>\"12128_7\"</td>\n",
              "      <td>1</td>\n",
              "    </tr>\n",
              "  </tbody>\n",
              "</table>\n",
              "</div>"
            ],
            "text/plain": [
              "           id  sentiment\n",
              "0  \"12311_10\"          1\n",
              "1    \"8348_2\"          0\n",
              "2    \"5828_4\"          1\n",
              "3    \"7186_2\"          1\n",
              "4   \"12128_7\"          1"
            ]
          },
          "metadata": {},
          "execution_count": 29
        }
      ]
    },
    {
      "cell_type": "code",
      "metadata": {
        "execution": {
          "iopub.status.busy": "2021-10-08T19:24:08.13261Z",
          "iopub.execute_input": "2021-10-08T19:24:08.133078Z",
          "iopub.status.idle": "2021-10-08T19:24:08.191926Z",
          "shell.execute_reply.started": "2021-10-08T19:24:08.133039Z",
          "shell.execute_reply": "2021-10-08T19:24:08.190791Z"
        },
        "trusted": true,
        "colab": {
          "base_uri": "https://localhost:8080/"
        },
        "id": "xlg2LFjYYqws",
        "outputId": "ccd70546-df95-4b86-b4d2-6c079dc0a08a"
      },
      "source": [
        "output.to_csv('submit.csv', index=False, quoting=3)\n",
        "output_sentiment = output['sentiment'].value_counts()\n",
        "print(np.abs(output_sentiment[0] - output_sentiment[1]))\n",
        "output_sentiment"
      ],
      "execution_count": null,
      "outputs": [
        {
          "output_type": "stream",
          "name": "stdout",
          "text": [
            "98\n"
          ]
        },
        {
          "output_type": "execute_result",
          "data": {
            "text/plain": [
              "1    12549\n",
              "0    12451\n",
              "Name: sentiment, dtype: int64"
            ]
          },
          "metadata": {},
          "execution_count": 31
        }
      ]
    },
    {
      "cell_type": "markdown",
      "metadata": {
        "id": "LPbmV5ptY0xx"
      },
      "source": [
        "![111.png](data:image/png;base64,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)"
      ]
    }
  ]
}
